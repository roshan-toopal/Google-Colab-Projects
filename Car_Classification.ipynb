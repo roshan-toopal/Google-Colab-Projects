{
  "nbformat": 4,
  "nbformat_minor": 0,
  "metadata": {
    "colab": {
      "name": "Car_Classification.ipynb",
      "provenance": [],
      "collapsed_sections": []
    },
    "kernelspec": {
      "name": "python3",
      "display_name": "Python 3"
    },
    "accelerator": "GPU"
  },
  "cells": [
    {
      "cell_type": "markdown",
      "metadata": {
        "id": "_EsRiRj3aw0H",
        "colab_type": "text"
      },
      "source": [
        "## **Set up**"
      ]
    },
    {
      "cell_type": "code",
      "metadata": {
        "id": "E_6L3pFFUwbE",
        "colab_type": "code",
        "colab": {}
      },
      "source": [
        "from google.colab import files\n",
        "import tensorflow as tf\n",
        "from tensorflow import keras\n",
        "\n",
        "import numpy as np\n",
        "import matplotlib.pyplot as plt\n",
        "\n",
        "from imutils import paths\n",
        "import random\n",
        "import pickle\n",
        "import cv2\n",
        "import csv\n",
        "import os\n",
        "\n",
        "# Install Kaggle library\n",
        "!pip install -q kaggle\n"
      ],
      "execution_count": null,
      "outputs": []
    },
    {
      "cell_type": "code",
      "metadata": {
        "id": "a6iacuN_U6A3",
        "colab_type": "code",
        "colab": {}
      },
      "source": [
        "# Upload kaggle API key file\n",
        "uploaded = files.upload()"
      ],
      "execution_count": null,
      "outputs": []
    },
    {
      "cell_type": "code",
      "metadata": {
        "id": "xBSGTie8lz-e",
        "colab_type": "code",
        "colab": {}
      },
      "source": [
        "!cp kaggle.json ~/.kaggle/\n"
      ],
      "execution_count": null,
      "outputs": []
    },
    {
      "cell_type": "code",
      "metadata": {
        "id": "1CxL6bjVVJMP",
        "colab_type": "code",
        "colab": {}
      },
      "source": [
        "!kaggle datasets download -d jessicali9530/stanford-cars-dataset"
      ],
      "execution_count": null,
      "outputs": []
    },
    {
      "cell_type": "code",
      "metadata": {
        "id": "8A3IpLImvD4o",
        "colab_type": "code",
        "colab": {}
      },
      "source": [
        "!unzip stanford-cars-dataset"
      ],
      "execution_count": null,
      "outputs": []
    },
    {
      "cell_type": "code",
      "metadata": {
        "id": "-GXkNbYktvfR",
        "colab_type": "code",
        "colab": {}
      },
      "source": [
        "train_imagePaths = sorted(list(paths.list_images(\"cars_train/\")))\n",
        "test_imagePaths = sorted(list(paths.list_images(\"cars_test/\")))"
      ],
      "execution_count": null,
      "outputs": []
    },
    {
      "cell_type": "markdown",
      "metadata": {
        "id": "w18ATXNwk8nC",
        "colab_type": "text"
      },
      "source": [
        "## **Helper Functions**"
      ]
    },
    {
      "cell_type": "code",
      "metadata": {
        "id": "VpUMkYXzwjgU",
        "colab_type": "code",
        "colab": {}
      },
      "source": [
        "def format_images(image_set, image_paths, info):\n",
        "  for i in range(len(image_paths)):\n",
        "    if i % 1000 == 0:\n",
        "      print(i)\n",
        "    imagePath = image_paths[i]\n",
        "\t  # load the image, resize the image to be 32x32 pixels (ignoring\n",
        "\t  # aspect ratio), flatten the image into 32x32x3=3072 pixel image\n",
        "\t  # into a list, and store the image in the data list\n",
        "    image = cv2.imread(imagePath)\n",
        "    row = info[i]\n",
        "    x1 = int(row[0])\n",
        "    x2 = int(row[2])\n",
        "    y1 = int(row[1])\n",
        "    y2 = int(row[3])\n",
        "    image = image[y1:y2,x1:x2,:]\n",
        "    image = cv2.resize(image, (300, 300))\n",
        "    image_set.append(image)\n",
        "  image_set = np.asarray(image_set)\n",
        "\n",
        "def format_labels(annos, years, makes):\n",
        "  info = []\n",
        "  labels = []\n",
        "  year_labels = []\n",
        "  make_labels = []\n",
        "  with open(annos) as csvfile:\n",
        "    reader = csv.reader(csvfile) # change contents to floats\n",
        "    count = 2\n",
        "    for row in reader: # each row is a list\n",
        "        if count % 3 == 0:\n",
        "          info.append(row)\n",
        "        count += 1\n",
        "\n",
        "  index = 0\n",
        "  count = 0\n",
        "  for row in info:\n",
        "    val = int(info[index][4])\n",
        "    labels.append(val)\n",
        "    year_labels.append(years[val-1])\n",
        "    make_labels.append(makes[val-1])\n",
        "    index += 1\n",
        "    count += 1\n",
        "\n",
        "  labels = np.asarray(labels)\n",
        "  return info, labels, year_labels, make_labels\n",
        "\n",
        "def format_labels_test():\n",
        "  info = []\n",
        "\n",
        "  with open('cars_test_annos.csv') as csvfile:\n",
        "    reader = csv.reader(csvfile) # change contents to floats\n",
        "    count = 2\n",
        "    for row in reader: # each row is a list\n",
        "        if count % 3 == 0:\n",
        "          info.append(row)\n",
        "        count += 1\n",
        "  return info\n",
        "\n",
        "def get_class_info():\n",
        "  meta_data = []\n",
        "  years = []\n",
        "  makes = []\n",
        "  with open(\"cars_meta.csv\") as csvfile:\n",
        "    reader = csv.reader(csvfile) # change contents to floats\n",
        "    count= 1\n",
        "    for row in reader: # each row is a list\n",
        "      if count != 1:\n",
        "        meta_data.append(row)\n",
        "      count += 1\n",
        "  class_names = meta_data[0]\n",
        "\n",
        "  for name in class_names:\n",
        "    split = name.split()\n",
        "    year = split[len(split) - 1]\n",
        "    years.append(int(year))\n",
        "    makes.append(split[0])\n",
        "  return class_names, years, makes\n",
        "\n",
        "def removeDuplicates(nums):\n",
        "  \"\"\"\n",
        "  :type nums: List[int]\n",
        "  :rtype: int\n",
        "  \"\"\"\n",
        "  a = nums[:]\n",
        "  i = 0\n",
        "  while i < len(a) - 1:\n",
        "    j = i + 1\n",
        "    while j < len(a):\n",
        "      if a[j] == a[i]:\n",
        "        a.remove(a[i])\n",
        "      else:\n",
        "        i += 1\n",
        "        break\n",
        "            \n",
        "  return a             \n",
        "\n",
        "class myCallback(tf.keras.callbacks.Callback):\n",
        "  def on_epoch_end(self, epoch, logs={}):\n",
        "    if(logs.get('accuracy')>0.95):\n",
        "      print(\"\\nReached 60% accuracy so cancelling training!\")\n",
        "      self.model.stop_training = True"
      ],
      "execution_count": null,
      "outputs": []
    },
    {
      "cell_type": "markdown",
      "metadata": {
        "id": "rOlUp72d-3ni",
        "colab_type": "text"
      },
      "source": [
        "## **Formatting Data & Labels for Train and Test Sets**"
      ]
    },
    {
      "cell_type": "code",
      "metadata": {
        "id": "61Hf0xF9zf4V",
        "colab_type": "code",
        "colab": {}
      },
      "source": [
        "class_names, class_years, class_makes = get_class_info()\n",
        "train_info, train_classes, train_years, train_makes = format_labels(\"cars_train_annos.csv\", class_years, class_makes)\n",
        "test_info = format_labels_test()"
      ],
      "execution_count": null,
      "outputs": []
    },
    {
      "cell_type": "code",
      "metadata": {
        "id": "ZZS8gFWpznWV",
        "colab_type": "code",
        "colab": {}
      },
      "source": [
        "train_images = []\n",
        "test_images = []\n",
        "format_images(train_images, train_imagePaths, train_info)\n",
        "format_images(test_images, test_imagePaths, test_info)\n",
        "train_images = np.asarray(train_images)\n",
        "test_images = np.asarray(test_images)"
      ],
      "execution_count": null,
      "outputs": []
    },
    {
      "cell_type": "code",
      "metadata": {
        "id": "Z9G-rdsLsDX3",
        "colab_type": "code",
        "colab": {}
      },
      "source": [
        "make_classes = removeDuplicates(class_makes)"
      ],
      "execution_count": null,
      "outputs": []
    },
    {
      "cell_type": "code",
      "metadata": {
        "id": "jJ7fR4GZvlJC",
        "colab_type": "code",
        "colab": {}
      },
      "source": [
        "make_classes"
      ],
      "execution_count": null,
      "outputs": []
    },
    {
      "cell_type": "markdown",
      "metadata": {
        "id": "_QnV5-gcp0s3",
        "colab_type": "text"
      },
      "source": [
        "Creating labels (0-5) for nationality of car make"
      ]
    },
    {
      "cell_type": "code",
      "metadata": {
        "id": "SlbbRbmUjTkA",
        "colab_type": "code",
        "colab": {}
      },
      "source": [
        "\n",
        "make_country_classes = [0, 1, 4, 2, 2, 4, 4, 0, 0, 0, 0, 1, 0, 0, 3, 3, 0, 0, 0, 4, 0, 1, 1, 1, 1, 4, 0, 3, 0, 0, 4, 2, 1, 0, 2, 1, 1, 0, 2, 0, 4, 0, 4, 1, 0, 1, 2, 4, 2]\n",
        "# American = 0\n",
        "# Japanese = 1\n",
        "# German = 2\n",
        "# Italian = 3\n",
        "# Other = 4\n",
        "make_country_train_labels = []\n",
        "for make in train_makes:\n",
        "   make_country_train_labels.append(make_country_classes[make_classes.index(make)])\n",
        "make_country_train_labels_one_hot = keras.utils.to_categorical(make_country_train_labels)"
      ],
      "execution_count": null,
      "outputs": []
    },
    {
      "cell_type": "markdown",
      "metadata": {
        "id": "1NzQCrv5p7oZ",
        "colab_type": "text"
      },
      "source": [
        "Creating labels (0-49) for specific car makes\n"
      ]
    },
    {
      "cell_type": "code",
      "metadata": {
        "id": "OWsTiUvNp44N",
        "colab_type": "code",
        "colab": {}
      },
      "source": [
        "make_train_labels_makes = []\n",
        "for make in train_makes:\n",
        "  make_train_labels_makes.append(make_classes.index(make))\n",
        "make_train_labels_makes_onehot = keras.utils.to_categorical(make_train_labels_makes)"
      ],
      "execution_count": null,
      "outputs": []
    },
    {
      "cell_type": "markdown",
      "metadata": {
        "id": "mSKT7-48n6M5",
        "colab_type": "text"
      },
      "source": [
        "\n",
        "**make_country_train_labels_one_hot** now contains the one-hot vector format of the nationality of each training example\n",
        "\n",
        "**train_makes** contains the specific string version of each make in the training set"
      ]
    },
    {
      "cell_type": "markdown",
      "metadata": {
        "id": "w97jvzEVDIuL",
        "colab_type": "text"
      },
      "source": [
        "## **Defining the models**\n",
        "## Model 1: CNN to classify which nationality the car's manufacturer resides in"
      ]
    },
    {
      "cell_type": "code",
      "metadata": {
        "id": "o2KVj_2LDKoJ",
        "colab_type": "code",
        "colab": {}
      },
      "source": [
        "nation_model = keras.Sequential()\n",
        "nation_model.add(keras.layers.Conv2D(16, (3,3),activation='relu',input_shape=(300,300,3)))\n",
        "nation_model.add(keras.layers.MaxPooling2D(pool_size=(2, 2), strides=(2, 2)))\n",
        "nation_model.add(keras.layers.Conv2D(32, (3, 3), activation='relu'))\n",
        "nation_model.add(keras.layers.MaxPooling2D(pool_size=(2, 2), strides=(2, 2)))\n",
        "# nation_model.add(keras.layers.Conv2D(64, (3,3),activation='relu'))\n",
        "# nation_model.add(keras.layers.MaxPooling2D(pool_size=(2, 2), strides=(2, 2)))\n",
        "# nation_model.add(keras.layers.Conv2D(45, (2,2),activation='relu'))\n",
        "# nation_model.add(keras.layers.MaxPooling2D(pool_size=(2, 2), strides=(2, 2)))\n",
        "#nation_model.add(keras.layers.Dropout(0.2))\n",
        "nation_model.add(keras.layers.Flatten())\n",
        "nation_model.add(keras.layers.Dense(128, activation='relu', kernel_initializer='he_uniform', kernel_regularizer='l2'))\n",
        "nation_model.add(keras.layers.Dense(5, activation='softmax'))"
      ],
      "execution_count": null,
      "outputs": []
    },
    {
      "cell_type": "code",
      "metadata": {
        "id": "FaqkUoY6o8za",
        "colab_type": "code",
        "colab": {}
      },
      "source": [
        "nation_model.compile(optimizer='adam', loss='categorical_crossentropy', metrics=['accuracy'])"
      ],
      "execution_count": null,
      "outputs": []
    },
    {
      "cell_type": "code",
      "metadata": {
        "id": "nVMY6N4WpGBp",
        "colab_type": "code",
        "colab": {}
      },
      "source": [
        "nation_history = nation_model.fit(train_images, make_country_train_labels_one_hot, epochs = 30, batch_size = 100)"
      ],
      "execution_count": null,
      "outputs": []
    },
    {
      "cell_type": "code",
      "metadata": {
        "id": "MZuTD9Ehqpby",
        "colab_type": "code",
        "colab": {
          "base_uri": "https://localhost:8080/",
          "height": 329
        },
        "outputId": "d68bb5c6-abe5-4173-9e97-674415a341d1"
      },
      "source": [
        "loss=nation_history.history['loss']\n",
        "zoomed_loss = loss[1:]\n",
        "epochs=range(len(loss))[1:]\n",
        "plt.plot(epochs, zoomed_loss, 'r')\n",
        "plt.title('Training loss')\n",
        "plt.xlabel(\"Epochs\")\n",
        "plt.ylabel(\"Loss\")\n",
        "plt.legend([\"Loss\"])\n",
        "\n",
        "plt.figure()"
      ],
      "execution_count": null,
      "outputs": [
        {
          "output_type": "execute_result",
          "data": {
            "text/plain": [
              "<Figure size 432x288 with 0 Axes>"
            ]
          },
          "metadata": {
            "tags": []
          },
          "execution_count": 35
        },
        {
          "output_type": "display_data",
          "data": {
            "image/png": "[encoded data removed]",
            "text/plain": [
              "<Figure size 432x288 with 1 Axes>"
            ]
          },
          "metadata": {
            "tags": [],
            "needs_background": "light"
          }
        },
        {
          "output_type": "display_data",
          "data": {
            "text/plain": [
              "<Figure size 432x288 with 0 Axes>"
            ]
          },
          "metadata": {
            "tags": []
          }
        }
      ]
    },
    {
      "cell_type": "markdown",
      "metadata": {
        "id": "pSYzpVKhalE8",
        "colab_type": "text"
      },
      "source": [
        "## Model 2: CNN to classify specifically which manufacturer made the car in the image"
      ]
    },
    {
      "cell_type": "code",
      "metadata": {
        "id": "_Ml797r1qfgD",
        "colab_type": "code",
        "colab": {}
      },
      "source": [
        "make_model = keras.Sequential()\n",
        "make_model.add(keras.layers.Conv2D(16, (3,3),activation='relu',input_shape=(300,300,3)))\n",
        "make_model.add(keras.layers.MaxPooling2D(pool_size=(2, 2), strides=(2, 2)))\n",
        "make_model.add(keras.layers.Conv2D(32, (3, 3), activation='relu'))\n",
        "make_model.add(keras.layers.MaxPooling2D(pool_size=(2, 2), strides=(2, 2)))\n",
        "make_model.add(keras.layers.Conv2D(64, (3,3),activation='relu'))\n",
        "make_model.add(keras.layers.MaxPooling2D(pool_size=(2, 2), strides=(2, 2)))\n",
        "# make_model.add(keras.layers.Conv2D(45, (2,2),activation='relu'))\n",
        "# make_model.add(keras.layers.MaxPooling2D(pool_size=(2, 2), strides=(2, 2)))\n",
        "#make_model.add(keras.layers.Dropout(0.2))\n",
        "make_model.add(keras.layers.Flatten())\n",
        "make_model.add(keras.layers.Dense(128, activation='relu', kernel_initializer='he_uniform', kernel_regularizer='l2'))\n",
        "make_model.add(keras.layers.Dense(49, activation='softmax'))\n",
        "\n",
        "callbacks = myCallback()"
      ],
      "execution_count": null,
      "outputs": []
    },
    {
      "cell_type": "code",
      "metadata": {
        "id": "oIwmQKJGqgaK",
        "colab_type": "code",
        "colab": {}
      },
      "source": [
        "make_model.compile(optimizer='adam', loss='categorical_crossentropy', metrics=['accuracy'])"
      ],
      "execution_count": null,
      "outputs": []
    },
    {
      "cell_type": "code",
      "metadata": {
        "id": "_doeo5LRqc10",
        "colab_type": "code",
        "colab": {}
      },
      "source": [
        "make_history = make_model.fit(train_images, make_train_labels_makes_onehot, epochs = 50, batch_size = 100, callbacks = [callbacks])"
      ],
      "execution_count": null,
      "outputs": []
    },
    {
      "cell_type": "code",
      "metadata": {
        "id": "BBtiwC5l76oX",
        "colab_type": "code",
        "colab": {
          "base_uri": "https://localhost:8080/",
          "height": 329
        },
        "outputId": "2dc11d19-386b-4850-8b83-7110a3fd0f61"
      },
      "source": [
        "loss=make_history.history['loss']\n",
        "zoomed_loss = loss[5:]\n",
        "epochs=range(len(loss))[5:]\n",
        "plt.plot(epochs, zoomed_loss, 'r')\n",
        "plt.title('Training loss')\n",
        "plt.xlabel(\"Epochs\")\n",
        "plt.ylabel(\"Loss\")\n",
        "plt.legend([\"Loss\"])\n",
        "\n",
        "plt.figure()"
      ],
      "execution_count": null,
      "outputs": [
        {
          "output_type": "execute_result",
          "data": {
            "text/plain": [
              "<Figure size 432x288 with 0 Axes>"
            ]
          },
          "metadata": {
            "tags": []
          },
          "execution_count": 51
        },
        {
          "output_type": "display_data",
          "data": {
            "image/png": "[encoded data removed]",
            "text/plain": [
              "<Figure size 432x288 with 1 Axes>"
            ]
          },
          "metadata": {
            "tags": [],
            "needs_background": "light"
          }
        },
        {
          "output_type": "display_data",
          "data": {
            "text/plain": [
              "<Figure size 432x288 with 0 Axes>"
            ]
          },
          "metadata": {
            "tags": []
          }
        }
      ]
    },
    {
      "cell_type": "markdown",
      "metadata": {
        "id": "-0VQzv-japsW",
        "colab_type": "text"
      },
      "source": [
        "## Testing classifiers on random images from test set"
      ]
    },
    {
      "cell_type": "code",
      "metadata": {
        "id": "2kH2hF0d-zCf",
        "colab_type": "code",
        "colab": {
          "base_uri": "https://localhost:8080/",
          "height": 286
        },
        "outputId": "6709f169-bcf5-4173-a3a6-abf20d2cf7c0"
      },
      "source": [
        "indexes = []\n",
        "samples = []\n",
        "full_images = []\n",
        "for i in range(1):\n",
        "  idx = np.random.choice(range(len(test_images)))\n",
        "  indexes.append(idx)\n",
        "  samples.append(test_images[idx])\n",
        "  full_images.append(cv2.imread(test_imagePaths[idx]))\n",
        "\n",
        "samples = np.array(samples)\n",
        "predictions = make_model.predict(x=samples)\n",
        "make_preds = np.argmax(predictions,axis=1)\n",
        "\n",
        "for image in full_images:\n",
        "  plt.imshow(image)\n",
        "\n",
        "finals = [make_classes[pred] for pred in make_preds]\n",
        "print(finals)\n",
        "\n"
      ],
      "execution_count": null,
      "outputs": [
        {
          "output_type": "stream",
          "text": [
            "['BMW']\n"
          ],
          "name": "stdout"
        },
        {
          "output_type": "display_data",
          "data": {
            "image/png": "[encoded data removed]",
            "text/plain": [
              "<Figure size 432x288 with 1 Axes>"
            ]
          },
          "metadata": {
            "tags": [],
            "needs_background": "light"
          }
        }
      ]
    },
    {
      "cell_type": "code",
      "metadata": {
        "id": "a2L8cH-jViRK",
        "colab_type": "code",
        "colab": {}
      },
      "source": [
        ""
      ],
      "execution_count": null,
      "outputs": []
    }
  ]
}